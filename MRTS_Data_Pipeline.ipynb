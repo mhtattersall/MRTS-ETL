{
  "cells": [
    {
      "cell_type": "markdown",
      "metadata": {
        "id": "view-in-github",
        "colab_type": "text"
      },
      "source": [
        "<a href=\"https://colab.research.google.com/github/mhtattersall/MRTS-ETL/blob/main/MRTS_Data_Pipeline.ipynb\" target=\"_parent\"><img src=\"https://colab.research.google.com/assets/colab-badge.svg\" alt=\"Open In Colab\"/></a>"
      ]
    },
    {
      "cell_type": "markdown",
      "metadata": {
        "id": "Ev_BSfZOF98K"
      },
      "source": [
        "# MRTS Data Pipeline: ETL, Analysis & Visualisation\n",
        "\n",
        "**Michael Tattersall**"
      ]
    },
    {
      "cell_type": "markdown",
      "metadata": {
        "id": "L11r4Ho-F98L"
      },
      "source": [
        "# Index\n",
        "\n",
        "- [Abstract](#Abstract)\n",
        "- [1. Introduction](#1.-Introduction)\n",
        "- [2. Extract-Transform-Load](#2.-Extract-Transform-Load)\n",
        "    - [2.1 The ETL Process](#2.1-The-ETL-Process)\n",
        "    - [2.2 Data Exploration](#2.2-Data-Exploration)\n",
        "    - [2.3 Data Preparation](#2.3-Data-Preparation)\n",
        "    - [2.4 Read the Data Using Python](#2.4-Reading-the-Data-Using-Python)\n",
        "         - [2.4.1 Reading Sample Data](#2.4.1-Reading-Sample-Data)\n",
        "         - [2.4.2 Reading the MRST Data](#2.4.2-Reading-the-MRST-Data)\n",
        "    - [2.5 Writing an Installation Script](#2.5-Writing-an-Installation-Script)\n",
        "- [3. Analysis and Visualization](#3.-Project-Description)\n",
        "    - [3.1 Running Queries in MySQL Workbech](#3.1-Running-Queries-in-MySQL-Workbech)\n",
        "    - [3.2 Running Queries From Python](#3.2-Running-Queries-From-Python)\n",
        "    - [3.3 Explore Trends](#3.3-Explore-Trends)\n",
        "    - [3.4 Explore Percentage Change](#3.4-Explore-Percentage-Change)\n",
        "    - [3.5 Explore Rolling Time Windows](#3.5-Explore-Rolling-Time-Windows)\n",
        "- [Conclusion](#Conclusion)\n",
        "- [References](#References)"
      ]
    },
    {
      "cell_type": "markdown",
      "metadata": {
        "id": "KQLj9sLTF98L"
      },
      "source": [
        "[Back to top](#Index)\n",
        "\n",
        "\n",
        "##  Abstract\n",
        "\n",
        "This project creates a data pipeline to enable the analysis and visualisation of spending patterns in the US economy in 2019 and 2020.\n",
        "\n",
        "Data from speadsheets is pushed through an ETL (extract, transform, load) process and is queried on a structured relational database in MySQL.  Data is then downloaded to an in-memory Python environment and examined with trend analysis, percentage changes and rolling time windows.  \n",
        "\n",
        "The analysis of the MRTS dataset for 2019 and 2020 reveals a sharp downtrend in estimated sales in the US economy observed in April 2020, associated with the onset of the Covid-19 pandemic, followed by a recovery to surpass all previous observed levels by December 2020.\n",
        "\n"
      ]
    },
    {
      "cell_type": "markdown",
      "metadata": {
        "id": "gGqZcgGrF98L"
      },
      "source": [
        "[Back to top](#Index)\n",
        "\n",
        "\n",
        "## 1. Introduction\n",
        "\n",
        "This project concerns the creation of a data pipeline to extract, load, transform, analyse and visualise the Monthly Retail Trade Survey (MRTS) dataset.\n",
        "\n",
        "The following applications are used:\n",
        "\n",
        "* Spreadsheets - Google sheets\n",
        "* Text editor - Microsoft Notepad\n",
        "* Integrated development environment - Visual Studio Code (Python 3.12.2)\n",
        "* Relational database management system - MySQL\n",
        "* MySQL graphical user interface - MySQL Workbench\n",
        "* IPython platform - Google Colaboratory\n",
        "* Storage - Google My Drive\n",
        "\n",
        "The following coding languages are used:\n",
        "\n",
        "* Python\n",
        "* SQL - MySQL\n",
        "\n",
        "The following Python libraries are used:\n",
        "\n",
        "* CSV - for reading CSV files\n",
        "* MySQL connector - for connecting to the MySQL server\n",
        "* Pandas - for dataframe structures and methods\n",
        "* Matplotlib - for visualisation\n",
        "* Statsmodels - for seasonal decomposition method\n",
        "\n",
        "The methods and functions used from these libraries are detailed in the sections below."
      ]
    },
    {
      "cell_type": "markdown",
      "metadata": {
        "id": "hdBb8dR7F98L"
      },
      "source": [
        "[Back to top](#Index)\n",
        "\n",
        "## 2. Extract-Transform-Load\n"
      ]
    },
    {
      "cell_type": "markdown",
      "metadata": {
        "id": "slIRBMZbF98L"
      },
      "source": [
        "[Back to top](#Index)\n",
        "\n",
        "### 2.1 The ETL Process\n",
        "\n",
        "The key steps to perform ETL on the provided MRTS dataset are:\n",
        "\n",
        "Extract - The data is downloaded to a local machine as an excel file.  The excel file is then uploaded to Google sheets in the cloud.  \n",
        "\n",
        "Transform - The data is examined in Google sheets and several transformations are performed to prepare the data for an upload to the MySQL Server.\n",
        "\n",
        "Load - The data is downloaded from Google sheets as a CSV file. The data in the CSV file is uploaded to the MySQL Server programmatically with installation scripts using Python, SQL and the MySQL Connector Python module."
      ]
    },
    {
      "cell_type": "markdown",
      "metadata": {
        "id": "pQ9BNWfPF98L"
      },
      "source": [
        "[Back to top](#Index)\n",
        "\n",
        "### 2.2 Data Exploration\n",
        "\n",
        "The Monthly Retail Trade Survey (MRTS) provides current estimates of sales at retail and food service stores and inventories held by retail stores in the United States.\n",
        "\n",
        "The estimates are based on a sample of companies with one or more establishments that sell mechandise and related services to final consumers. The survey is published on a monthly basis by the United States Census Bureau approximately 6 weeks after the end of the reference month, and dates from 1951 to the current day.  \n",
        "\n",
        "The MRTS is used by government, academic and business communities to calculate economic statistics and to assess recent consumer activity and trends.\n",
        "\n",
        "The dataset itself contains estimates in millions of dollars, in various totals, which are grouped according to the major kind of business.  The estimates are also arranged in unadjusted and adjusted bases (i.e. adjusted for seasonal variations and holiday and trading-day differences).\n",
        "\n",
        "The data for this project is provided in a spreadsheet, with estimates for each calendar month and an annual total in columns.  Each tab of the spreadsheet is for a particular calendar year, between 1992 and 2021.  "
      ]
    },
    {
      "cell_type": "markdown",
      "metadata": {
        "id": "ySMkJZy3F98L"
      },
      "source": [
        "[Back to top](#Index)\n",
        "\n",
        "### 2.3 Data Preparation\n",
        "\n",
        "Several transformations are performed on the dataset to put it in a format that can be read by both Python and SQL:\n",
        "\n",
        "* Using the 2020 tab of the spreadsheet initially, the rows with titles, the annual total column and all of the 'adjusted' data is removed so we are left with just 'unadjusted' rows of data.  The are 2 index columns, which are 'NAICS Code' and a description of 'Kind of Business', followed by sales estimates in millions for each calendar month in columns.\n",
        "* The monthly data for 2019 are added to make a larger worksheet for all months in 2019 and 2020.  This involves a single 'copy and paste' manual operation, which results in a table with 26 columns and 65 rows.\n",
        "* The data in this table is checked to ensure it is in a format that can be read into an SQL table.  Two modifications are found to be necessary:\n",
        ">* The comma separator for thousands in the format of the numeric data needs to be removed so we are left with just integers (by changing the number format in Google sheets for all the seleceted data cells) so it can be accepted into columns defined as integers in MySQL.\n",
        ">* Missing values marked with (NA) for 'not available' is found and replaced with 0, to enable the data to be accepted into integer columns in MySQL.\n",
        ">* Missing values in the NAICS Code column are filled with incremental values from 1 to 6 to enable this column to be used a primary key or an index key in the MySQL.\n",
        "\n",
        "The data is now ready to be downloaded from Google sheets as a CSV file.\n"
      ]
    },
    {
      "cell_type": "markdown",
      "metadata": {
        "id": "FtZCHmkQF98M"
      },
      "source": [
        "[Back to top](#Index)\n",
        "\n",
        "### 2.4 Read the Data Using Python\n",
        "\n",
        "The in-built 'csv' module is used to open and read CSV (comma-separated values) files in Python.  \n",
        "\n",
        "The Python script below acheives the following:\n",
        "* imports the csv module\n",
        "* opens the sample 'soccer.csv' file\n",
        "* creates a CSV reader object\n",
        "* interates through the rows printing each in turn\n",
        "\n"
      ]
    },
    {
      "cell_type": "markdown",
      "source": [
        "![csv_sample_read](https://drive.google.com/uc?export=view&id=19m318Hc4dp4mnkZcYX0JEqURE-Hj-Xt9)"
      ],
      "metadata": {
        "id": "05CUmR0GHkCx"
      }
    },
    {
      "cell_type": "markdown",
      "metadata": {
        "id": "6723qFDxF98M"
      },
      "source": [
        "[Back to top](#Index)\n",
        "\n",
        "### 2.4.1 Reading Sample Data\n",
        "\n",
        "The sample dataset is a simple CSV file named 'soccer.csv'.  It has 7 rows (including a header) and 4 columns, as shown below:\n"
      ]
    },
    {
      "cell_type": "markdown",
      "source": [
        "![csv_soccer](https://drive.google.com/uc?export=view&id=1jXbVkkk9oXHg-YIuZ2aUnf27p2D9MfZg)"
      ],
      "metadata": {
        "id": "VnCRchxUTEEx"
      }
    },
    {
      "cell_type": "markdown",
      "source": [
        "The Python file is run in the terminal of the Visual Studio Code IDE (Integrated Development Environment), with a succesful result, as shown below:\n",
        "\n",
        "\n",
        "\n",
        "\n"
      ],
      "metadata": {
        "id": "tEzBsQRQSU8T"
      }
    },
    {
      "cell_type": "markdown",
      "source": [
        "`![run_handle_csv](https://drive.google.com/uc?export=view&id=13Tz93CYoMAX0TuLrsllZTUQRUcBvzId7)\n"
      ],
      "metadata": {
        "id": "QJKHlfmIT9av"
      }
    },
    {
      "cell_type": "markdown",
      "metadata": {
        "id": "bRzjVdKyF98M"
      },
      "source": [
        "[Back to top](#Index)\n",
        "\n",
        "### 2.4.2 Reading the MRTS Data\n",
        "\n",
        "The MRTS CSV file 'mrts_2019_2010' is succesfully opened and read in the terminal of Visual Studio Code using the Python script as shown below:"
      ]
    },
    {
      "cell_type": "markdown",
      "source": [
        "![csv_mrts_read](https://drive.google.com/uc?export=view&id=1j1GvVghjUZIlMQPRlgOPLP0O2uIC0hmt)"
      ],
      "metadata": {
        "id": "xt3ZDCqLYsPP"
      }
    },
    {
      "cell_type": "markdown",
      "metadata": {
        "id": "lIo5OX24F98M"
      },
      "source": [
        "[Back to top](#Index)\n",
        "\n",
        "### 2.5 Writing an Installation Script\n",
        "\n",
        "The installation scripts to read the dataset in MySQL WorkBench are written using Python, SQL and the MySQL Connector Python module.\n",
        "\n",
        "Three separate installation scripts are used as modular components to make the process more manageable and to allow for checking after each part of the process is run to verify it has worked as expected before moving on to the next.\n",
        "\n",
        "The 3 scripts were as follows:\n",
        "* mrts_installation_script_1 - used to create the database 'mrts' on the MySQL server.\n",
        "* mrts_installation_script_2 - used to create the table 'data' in the 'mrts' database.\n",
        "* mrts_installation_script_3 - used to insert the mrts data into the 'data' table.\n",
        "\n",
        "The 'create database' installation script is used to create a new database 'mrts' on the MySQL server.\n",
        "\n",
        "The 'create table' installation script includes the 26 columns, of which 24 are months.  The date format used for the months is a string of the month concatenated with the year i.e. 'Jan2019'.  MySQl does not accept other date formats such as 'Jan. 2019' or '01/09' or '0109'.  Each of the month columns is defined to accept the integer data type.  The 'NAICS' and 'Kind' colums are defined to accept the varchar string data type.\n",
        "\n",
        "The 'insert into' installation script specifies each of the columns of the data table, and reads in the values using a for loop with the csv_reader object (which contains the CSV file data).  The for loop iterates through each row at a time and accesses the data stored at the column index of each row from 0 to 25.\n",
        "\n",
        "The success of each installation script is checked on MySQL Workbench after running the installation scripts in the terminal of Visual Studio Code.\n",
        "\n",
        "A screenshot from MySQL with the 'head' of the MRTS data loaded into the 'data' table in the 'mrts' database is shown below:"
      ]
    },
    {
      "cell_type": "markdown",
      "source": [
        "![mysql_mrts](https://drive.google.com/uc?export=view&id=1EOLqQEK2lRG4WqbRp0mPkReIUcYHNJKP)"
      ],
      "metadata": {
        "id": "4sQg2Pu9pQ2x"
      }
    },
    {
      "cell_type": "markdown",
      "metadata": {
        "id": "cNOjuY9gF98M"
      },
      "source": [
        "\n",
        "[Back to top](#Index)\n",
        "\n",
        "## 3. Analysis and Visualization\n",
        "\n",
        "Queries against the dataset are run both directly in MySQL Workbench and in a Python envrionment using the MySQL Connector module.\n",
        "\n",
        "MySQL Workbench provides a Graphical User Interface (GUI) for interacting with the 'mrts' database stored on the MySQL Server.  This makes it easy to write and execute in queries in SQL, and to inspect the results in tables.\n",
        "\n",
        "MySQL Workbench is limited in its options for subsequent analysis and plotting of the data. To address this, MySQL queries can be run in a Visual Studio Code Python environment, where the results can be further analysed using extensive the libraries for data manipulation and visualisation offered by Python."
      ]
    },
    {
      "cell_type": "markdown",
      "metadata": {
        "id": "KqvJCSnkF98M"
      },
      "source": [
        "[Back to top](#Index)\n",
        "\n",
        "### 3.1 Running Queries in MySQL Workbech\n",
        "\n",
        "MySQL Workbench is used to run queries against the 'data' table of the 'mrts' databse to verify the data has loaded onto the MySQL Server.\n",
        "\n",
        "The first queries are check the **shape** of table, which is expected to be 26 columns x 65 rows.  This is succesfully verified with the following MySQL queries:"
      ]
    },
    {
      "cell_type": "markdown",
      "source": [
        "![mysql_shape](https://drive.google.com/uc?export=view&id=1buS2CZpjdPCaEl3r3JSWsTyBMLz_a31A)"
      ],
      "metadata": {
        "id": "7lx_pZhsTref"
      }
    },
    {
      "cell_type": "markdown",
      "metadata": {
        "id": "ZKhVLvcVF98M"
      },
      "source": [
        "[Back to top](#Index)\n",
        "\n",
        "### 3.2 Running Queries From Python\n",
        "\n",
        "Verification queries on the the MRTS dataset can also be be run from the Visual Studio Code terminal window using Python, SQL and the MySQL Connector Python module.  \n",
        "\n",
        "The query below the **total sum of the integers** in the numeric columns of the 'data' table of the 'mrts' database, which is expected to be 96,962,119.  This is succesfully verified with the following MySQL query, which sums the integers in the numeric columns:"
      ]
    },
    {
      "cell_type": "markdown",
      "source": [
        "![python_verification](https://drive.google.com/uc?export=view&id=1PlKke5bkQm9d4LmakGYDSTHhtMyMpQy5)"
      ],
      "metadata": {
        "id": "-4hcT5N8kAot"
      }
    },
    {
      "cell_type": "markdown",
      "source": [
        "Please note: the MySQL connector is used to download the MRTS dataset from the MySQL Server into the Visual Studio Code Python environment.  For each of the subsequent queries (trends, percentage change and rolling time windows), the 'months' column labels are downloaded as well as the entire dataset from the 'data' table.  \n",
        "\n",
        "The reason for downloading the entire dataset is that it is a single table, and it easy to access and manipulate the data as a list of tuples in Python.  Furthermore, the MySQL connector was found to be unreliable when applying SELECT statements with the WHERE clause.   "
      ],
      "metadata": {
        "id": "PTaPk3jQiNwq"
      }
    },
    {
      "cell_type": "markdown",
      "metadata": {
        "id": "qfcf4d69F98M"
      },
      "source": [
        "[Back to top](#Index)\n",
        "\n",
        "### 3.3 Explore Trends\n",
        "\n",
        "An economic trend is any general direction of movement observed in numeric economic indicators recorded at regular time intervals.  It signifies the movement that characterise a particular metric.  These metrics could emcompass aggregate figures such as employment rates, consumer spending or inflation, as well as the price and trading volume movements of securities, or any economic measure where there is a numeric factor that varies over time.\n",
        "\n",
        "Identifying trends is an important element in tracking and defining changes in economic indicators. Through trend analysis, organisations can enhance their understanding of economic conditions, enabling them to predict future conditions and make better-informed decisions.\n",
        "\n",
        "A trend could be a:\n",
        "\n",
        "* **Uptrend**: If the time series analysis shows an upward slope.\n",
        "* **Downtrend**: If the time series analysis shows a downward slope.\n",
        "* **Stationary trend**: If the time series analysis doesn’t show any slope."
      ]
    },
    {
      "cell_type": "markdown",
      "source": [
        "Please see below a line chart **comparing** the estimated sales of 'Sporting goods stores', 'Hobby, toy, and games stores', and 'Book stores' from the MRTS dataset for 2019 and 2020:"
      ],
      "metadata": {
        "id": "o6TkpCd8IOTP"
      }
    },
    {
      "cell_type": "markdown",
      "source": [
        "![comparing_trend](https://drive.google.com/uc?export=view&id=1-VYl2BPjuS1ckZx1aESe1oYoDJiYvzHR)"
      ],
      "metadata": {
        "id": "YODJLeuJIN5C"
      }
    },
    {
      "cell_type": "markdown",
      "source": [
        "The line chart is prepared using the **matplotlib** module in Python.\n",
        "\n",
        "When comparing the above categories, each seems to experience a seasonal pattern with peaks in December and troughs in the opening months of the year.\n",
        "\n",
        "Each of the 3 categories experienced a sharp downtrend in April 2020 consistent with the downtrend observed at the aggregate level associated with the restrictions imposed by the US Government at the onset of the Covid-19 pandemic.\n",
        "\n",
        "Each category experienced a recovery in sales between April and Decemeber 2020, which is consistent with the adaption to and the eventual lifting of Covid-19 restrictions.  \n",
        "\n",
        "The 'Hobby, toy, and games stores' category had the strongest upward trend, moving from a estimated level of USD 360m in April 2020 to USD 2,617m by December 2020, an increase of 627% over 8 months."
      ],
      "metadata": {
        "id": "72s_jhEjLCml"
      }
    },
    {
      "cell_type": "markdown",
      "source": [
        "Any time series may be also be **decomposed** into the following components: base level + trend + seasonality + error.\n",
        "\n",
        "The base level represents the underlying long-term average or mean of the time series. A trend is observed when there is an increasing or decreasing slope observed in the time series. Whereas seasonality is observed when there is a distinct repeated pattern observed between regular intervals due to seasonal factors. The error represents the random fluctuations in the time series that cannot be explained by the base level, trend or seasonality.\n",
        "\n",
        "A classical decomposition of a time series can be performed by considering the series as an additive of the base level, trend, seasonal index and the residual by implementing **seasonal_decompose()** method from the 'statsmodels' Python library and by structuring the data in a pandas DataFrame.  The line charts are prepared as **subplots()** with the matplotlib module.\n",
        "\n",
        "Please see below a line chart of the **'Retail and food services sales, total'** from the MRTS dataset for 2019 and 2020, decomposed into its component parts:"
      ],
      "metadata": {
        "id": "OOc3yHEa-jzV"
      }
    },
    {
      "cell_type": "markdown",
      "source": [
        "![total_decompose](https://drive.google.com/uc?export=view&id=1PeNyyHhFQGP7H_6n80a1IJtkEI4Qw-nc)"
      ],
      "metadata": {
        "id": "nYJJeUhX-3SN"
      }
    },
    {
      "cell_type": "markdown",
      "source": [
        "The above 'Retail and food services sales, total' data demonstrates a seasonal pattern with peaks in December and troughs in the opening months of the year.  There is an observable downtrend overall between January 2019 and December 2020.  However, the most unusual movement is the downtrend in the residual component observed in April 2020, which is associated with the restrictions imposed by the US Government at the onset of the Covid-19 pandemic."
      ],
      "metadata": {
        "id": "hiLdqpNwBlOR"
      }
    },
    {
      "cell_type": "markdown",
      "metadata": {
        "id": "elMeTxaoF98M"
      },
      "source": [
        "[Back to top](#Index)\n",
        "\n",
        "### 3.4 Explore Percentage Change\n",
        "\n",
        "The percentage change is a measure that quantifies the relative change in a quantity over time. It is calculated as the difference between the current value and the previous value, divided by the previous value, and then multiplied by 100 to express the result as a percentage.\n",
        "\n",
        "The formula for calculating the percentage change is:\n",
        "\n",
        "$Percentage Change = \\frac{Final Value - Initial Value}{Initial Value} * 100$\n",
        "\n",
        "Percentage change is considered an important measure in analysing, comparing and predicting quantities like spending patterns.  This is because it enables:\n",
        "\n",
        "* Comparison over time: comparing the relative change in a quantity over different time periods.\n",
        "* Standardization: expressing changes in percentage terms standardizes the comparison across different variables and time periods.\n",
        "* Interpretability: provides a meaningful interpretation of the relative magnitude of the change.\n",
        "* Forecasting: change data can be used as input for forecasting models to predict future trends and behaviors.\n",
        "\n",
        "Please see below a line chart comparing the estimated sales of 'Womens clothing stores' and 'Mens clothing stores' from the MRTS dataset for 2019 and 2020:\n",
        "\n",
        "\n",
        "\n",
        "\n",
        "\n",
        "\n"
      ]
    },
    {
      "cell_type": "markdown",
      "source": [
        "![clothing_compare](https://drive.google.com/uc?export=view&id=165_BOjVrsJHIY5qe6nHOcks_ohH9Yfhs)"
      ],
      "metadata": {
        "id": "p_SGRWmnIzBS"
      }
    },
    {
      "cell_type": "markdown",
      "source": [
        "The line chart is prepared using the **matplotlib** module in Python.\n",
        "\n",
        "These businesses are related because they both fall in the category of clothing stores in the MRTS data.  \n",
        "\n",
        "A line chart comparing the percentage changes of estimated sales on a monthly basis for 'Womens clothing stores' and 'Mens clothing stores' from the MRTS dataset for 2019 and 2020 is shown below:\n",
        "\n",
        "*(Please note: the chart excludes the last 3 months of 2020 as there are missing values for 'Mens clothing stores' in October 2020 and November 2020, redendering the percentage changes for these months redundant)*"
      ],
      "metadata": {
        "id": "swiU8tYJM1lW"
      }
    },
    {
      "cell_type": "markdown",
      "source": [
        "![clothing_compare](https://drive.google.com/uc?export=view&id=1ePKAO_3oUszBgQF0J7uIpTBzYluw14MB)"
      ],
      "metadata": {
        "id": "fm6MkiMLM1ZJ"
      }
    },
    {
      "cell_type": "markdown",
      "source": [
        "The percentage change for each time series was calculated using the **pct_change()** function in pandas. The line chart is prepared using the **matplotlib** module in Python."
      ],
      "metadata": {
        "id": "rjmYTpbTllY9"
      }
    },
    {
      "cell_type": "markdown",
      "source": [
        "\n",
        "\n",
        "The correlation between the time series data of 'Womens clothing stores' and 'Mens clothing stores' is 0.77 and the correlation between the percentage changes of of 'Womens clothing stores' and 'Mens clothing stores' is 0.94. This indicates a strong positive linear relationship between the 2 time series and a very strong positive linear relationship between the percentage changes of the 2 time series.\n",
        "\n",
        "Please note that the correlation statistics are:\n",
        "* computed using the **corr()** methods in pandas.\n",
        "* valid assuming the data are homoscedastic such that the variance of the data is homogenous across the data range.\n",
        "\n",
        "\n"
      ],
      "metadata": {
        "id": "NfK5Qc6QIzsp"
      }
    },
    {
      "cell_type": "markdown",
      "source": [
        "Finally, please see below a bar chart showing the percentage contribution to the total for 'Womens clothing stores' and 'Mens clothing stores' from the MRTS dataset for 2019 and 2020:"
      ],
      "metadata": {
        "id": "oq-r9bgHRVo7"
      }
    },
    {
      "cell_type": "markdown",
      "source": [
        "![clothing_compare](https://drive.google.com/uc?export=view&id=1UUPX_MV1EwlYSPR5MD3kHBXacazUkXKO)"
      ],
      "metadata": {
        "id": "uFK4oL9NRVYy"
      }
    },
    {
      "cell_type": "markdown",
      "source": [
        "The bar chart is prepared using the **matplotlib** module in Python.\n",
        "\n",
        "The percentage contribution of 'Womens clothing stores' increases over time from 79.2% in Januarry 2019, peaking at 87.64% in May 2020, and ending with 84.9% in December 2020.  \n",
        "\n",
        "*(Please note: there are missing values for 'Mens clothing stores' in October 2020 and November 2020, redendering the percentage contributions in these months redundant.)*"
      ],
      "metadata": {
        "id": "j2XA4wZLUbhC"
      }
    },
    {
      "cell_type": "markdown",
      "metadata": {
        "id": "r6vilQXqF98N"
      },
      "source": [
        "[Back to top](#Index)\n",
        "\n",
        "### 3.5 Explore Rolling Time Windows\n",
        "\n",
        "The rolling time window calculates the average value of a specified quantity over a defined period of time as the window moves forward through the data. This technique is useful for smoothing out short-term fluctuations in data.\n",
        "\n",
        "Rolling time windows are important for predicting quantities like spending patterns because they provide a clearer picture of the underlying trend by removing noise or random variability from the data. By analyzing historical data using rolling time windows, analysts can develop forecasting models to predict future trends and make informed decisions.\n",
        "\n",
        "One of the advantages of using rolling time windows is the flexibility to adjust the length of the window based on the specific characteristics of the data and the analytical objectives. Shorter windows capture more recent fluctuations, while longer windows provide a smoother representation of the overall trend. Organizations can experiment with different window lengths to optimize their forecasting accuracy and decision-making processes.\n",
        "\n",
        "Please see below a line chart comparing the estimates sales of 'New car dealers' and 'Used car dealers' from the MRTS dataset for 2019 and 2020:"
      ]
    },
    {
      "cell_type": "markdown",
      "source": [
        "![clothing_compare](https://drive.google.com/uc?export=view&id=1bhdHMzDP4fkPhZ-MoGp54qAITgoh78gU)"
      ],
      "metadata": {
        "id": "RzVk6auZuwMj"
      }
    },
    {
      "cell_type": "markdown",
      "source": [
        "The rolling time windows are calculated using the **rolling()** function in pandas. The line chart is prepared using the **matplotlib** module in Python."
      ],
      "metadata": {
        "id": "ose70jISuvUs"
      }
    },
    {
      "cell_type": "markdown",
      "source": [
        "The chart above shows the smoothing effect of the rolling time windows.  This is particularly evident in in April 2020, when the estimated sales of 'New car dealers' experienced a sharp decline.  At the same period, the 3-month and 6-month rolling mean line reduce, but the decline of these average statistics is much shallower.  \n",
        "\n",
        "When a shorter-term rolling window (in this case, the 3-month rolling average) crosses a longer-term rolling window  (in this case, the 6-month rolling average), it may be interpreted as a potential change in the trend of the underlying time series data. These 'moving average crossovers' event occur several times in the chart above.  However, it is important to note these are lagging indicators, meaning they may not always provide timely signals and can sometimes result in false signals."
      ],
      "metadata": {
        "id": "BdOWpQcKyAiP"
      }
    },
    {
      "cell_type": "markdown",
      "metadata": {
        "id": "8z2gFVU1F98N"
      },
      "source": [
        "[Back to top](#Index)\n",
        "\n",
        "## Conclusion\n",
        "\n",
        "We have created a data pipeline starting with MRTS (Monthly Retail Trade Survey) data in a spreadsheet.  The data has been extracted and transformed, then loaded from a CSV file into a structured relational database on the MySQL Server.\n",
        "\n",
        "We have run queries against the data in MySQL Workbench and in a Python envrionment with the MySQL Connector module. The results of queries can be loaded to an in-memory Python environment where they can be further manipulated and plotted with a rich varierty of options including trend analysis, percentage changes and rolling time windows.\n",
        "\n",
        "The analysis of the MRTS dataset for 2019 and 2020 reveals the sharp downtrend in estimated sales in the US economy observed in April 2020 associated with the onset of the Covid-19 pandemic.  Notwithstanding seasonal effects, estimated retail sales recovered by increasing by 50% between the dip in April 2020 and December 2020, and by that time retail sales had surpassed all previous monthly totals in the observed period.\n",
        "\n",
        "Of the kinds of business considered in this project, again notwithstanding season effects, the 'Hobby, toy, and games stores' category had the strongest recovery from the onset of the Covid-19 pandemic.  Estimated sales fell by increasing by 627% from USD 360m in April 2020 to USD 2,617m by December 2020. The estimated sales of 'Used car dealers' recoved with the least strentgh, increasing by 47% from USD 6,504m in April 2020 to USD 9,568m in December 2020."
      ]
    },
    {
      "cell_type": "markdown",
      "metadata": {
        "id": "BIcwKXnlF98N"
      },
      "source": [
        "\n",
        "[Back to top](#Index\n",
        ")\n",
        "## References\n",
        "\n",
        "- \"Monthly Retail Trade Survey\". United States Census Bureau, 2024. www.census.gov/retail/mrts/about_the_surveys.html/\n",
        "\n",
        "- Prabhakaran, Selva. “Time Series Analysis in Python: A Comprehensive Guide with Examples”. Machine Learning +. 2019. https://www.machinelearningplus.com/time-series/time-series-analysis-python/\n",
        "\n",
        "- Cheong, Jin. \"Four ways to quantify synchrony between time series data\". Towards Data Science. https://towardsdatascience.com/four-ways-to-quantify-synchrony-between-time-series-data-b99136c4a9c9\n"
      ]
    }
  ],
  "metadata": {
    "kernelspec": {
      "display_name": "Python 3",
      "language": "python",
      "name": "python3"
    },
    "language_info": {
      "codemirror_mode": {
        "name": "ipython",
        "version": 3
      },
      "file_extension": ".py",
      "mimetype": "text/x-python",
      "name": "python",
      "nbconvert_exporter": "python",
      "pygments_lexer": "ipython3",
      "version": "3.7.3"
    },
    "colab": {
      "provenance": [],
      "include_colab_link": true
    }
  },
  "nbformat": 4,
  "nbformat_minor": 0
}